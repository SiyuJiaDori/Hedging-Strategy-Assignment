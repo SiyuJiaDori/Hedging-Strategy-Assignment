{
 "cells": [
  {
   "cell_type": "code",
   "execution_count": null,
   "id": "2736c57e",
   "metadata": {},
   "outputs": [],
   "source": [
    "#Author: Siyu Jia"
   ]
  },
  {
   "cell_type": "code",
   "execution_count": 1,
   "id": "bb9c799f",
   "metadata": {},
   "outputs": [],
   "source": [
    "import numpy as np\n",
    "np.seterr(divide='ignore', invalid='ignore')\n",
    "from scipy.stats import norm\n",
    "import pdb\n",
    "\n",
    "class BS():\n",
    "    \n",
    "    def CallPrice(S, T, K, sigma, r):\n",
    "        #S = S0\n",
    "        #T = time to maturity\n",
    "        #K = Strike price of option\n",
    "        #sigma = vol\n",
    "        #r = risk-free\n",
    "        \n",
    "        dp = (np.log(S/K) + (r+0.5*sigma**2)*T)/(np.sqrt(T)*sigma)\n",
    "        dm = (np.log(S/K) + (r-0.5*sigma**2)*T)/(np.sqrt(T)*sigma)\n",
    "        \n",
    "        return S*norm.cdf(dp) - K*np.exp(-r*T)*norm.cdf(dm)\n",
    "    \n",
    "    def PutPrice(S, T, K, sigma, r):\n",
    "        \n",
    "        dp = (np.log(S/K) + (r+0.5*sigma**2)*T)/np.sqrt(T)/sigma\n",
    "        dm = (np.log(S/K) + (r-0.5*sigma**2)*T)/np.sqrt(T)/sigma\n",
    "        \n",
    "        return K*np.exp(-r*T)*norm.cdf(-dm) - S*norm.cdf(-dp)\n",
    "    \n",
    "    \n",
    "    def CallDelta(S, T, K, sigma, r):\n",
    "        \n",
    "        dp = (np.log(S/K) + (r+0.5*sigma**2)*T)/np.sqrt(T)/sigma\n",
    "        \n",
    "        return norm.cdf(dp)\n",
    "    \n",
    "    def PutDelta(S, T, K, sigma, r):\n",
    "        \n",
    "        return BS.CallDelta(S, T, K, sigma, r)-1\n",
    "    \n",
    "    def CallGamma(S, T, K, sigma, r):\n",
    "        \n",
    "        dp = (np.log(S/K) + (r+0.5*sigma**2)*T)/np.sqrt(T)/sigma\n",
    "        \n",
    "        return norm.pdf(dp)/(S*sigma*np.sqrt(T))\n",
    "    \n",
    "    def PutGamma(S, T, K, sigma, r):\n",
    "        \n",
    "        return BS.CallGamma(S, T, K, sigma, r)"
   ]
  },
  {
   "cell_type": "code",
   "execution_count": 2,
   "id": "abe77286",
   "metadata": {},
   "outputs": [],
   "source": [
    "#return matrix of GBM simulation 10000x64, 每一行都是stock price in 63 days\n",
    "def sim(mu,sigma,S0,T,sim_num):\n",
    "    \n",
    "    dt = 1/252\n",
    "    sims = np.full((int(sim_num),int((T*252)+1)),np.nan)\n",
    "    sims[:,0] = S0\n",
    "    for i in range (int(T*252)):\n",
    "        rand = np.random.normal(0,np.sqrt(dt),sim_num)\n",
    "        sims[:,i+1] = sims[:,i]*np.exp((mu-(1/2)*(sigma**2))*dt+sigma*rand)\n",
    "        \n",
    "    return sims"
   ]
  },
  {
   "cell_type": "code",
   "execution_count": 3,
   "id": "c38737fa",
   "metadata": {},
   "outputs": [],
   "source": [
    "#Q1"
   ]
  },
  {
   "cell_type": "code",
   "execution_count": 3,
   "id": "3386754d",
   "metadata": {
    "scrolled": false
   },
   "outputs": [
    {
     "data": {
      "text/plain": [
       "Text(0.5, 1.0, 'Time Based P&L --- Delta Hedging')"
      ]
     },
     "execution_count": 3,
     "metadata": {},
     "output_type": "execute_result"
    },
    {
     "data": {
      "image/png": "[encoded data removed]",
      "text/plain": [
       "<Figure size 432x288 with 1 Axes>"
      ]
     },
     "metadata": {
      "needs_background": "light"
     },
     "output_type": "display_data"
    }
   ],
   "source": [
    "#delta hedging time based\n",
    "np.random.seed(456)\n",
    "import matplotlib.pyplot as plt\n",
    "S0 = 100\n",
    "sigma = 0.2\n",
    "mu = 0.1\n",
    "r = 0.02\n",
    "K = 100\n",
    "put_T = int(252*1/4) #NdT_put\n",
    "call_T = int(252*1/2) #NdT_call\n",
    "trans_equity = 0.005\n",
    "trans_option = 0.01\n",
    "sim_num = 10000\n",
    "dt = 1/252\n",
    "T_put = 0.25\n",
    "#time-based delta hedging\n",
    "simulations = sim(mu,sigma,S0,T_put,sim_num)\n",
    "bank_account1 = np.full_like(simulations,np.nan)\n",
    "delta0 = BS.PutDelta(S0, T_put, K, sigma, r)\n",
    "M0_put = BS.PutPrice(S0, T_put, K, sigma, r) - delta0*S0 - trans_equity*np.abs(delta0)\n",
    "bank_account1[:,0] = M0_put\n",
    "delta = []\n",
    "delta += [delta0]\n",
    "#M(r,t,M0,S_price,transaction_cost,delta0,delta)\n",
    "for i in range(put_T):\n",
    "    \n",
    "    T = T_put - (i + 1) * dt\n",
    "    if i == put_T - 1:\n",
    "        delta_new = 0\n",
    "    else: \n",
    "        delta_new = BS.PutDelta(simulations[:,i+1], T, K, sigma, r)\n",
    "    delta += [delta_new]\n",
    "    bank_account1[:,i+1] = bank_account1[:,i]*np.exp(r*dt) - \\\n",
    "    (delta_new - delta[-2])*simulations[:,i+1] - \\\n",
    "    trans_equity*(np.abs((delta_new - delta[-2])))\n",
    "    \n",
    "for ii in range(sim_num):\n",
    "    if K > simulations[ii,-1]:\n",
    "        bank_account1[ii,-1] = bank_account1[ii,-1] - (K - simulations[ii,-1])\n",
    "\n",
    "plt.hist(bank_account1[:,-1],bins = 100)\n",
    "plt.title('Time Based P&L --- Delta Hedging')"
   ]
  },
  {
   "cell_type": "code",
   "execution_count": 7,
   "id": "9c6893d2",
   "metadata": {},
   "outputs": [
    {
     "data": {
      "text/plain": [
       "64"
      ]
     },
     "execution_count": 7,
     "metadata": {},
     "output_type": "execute_result"
    }
   ],
   "source": [
    "len(bank_account1[1,:])"
   ]
  },
  {
   "cell_type": "code",
   "execution_count": 5,
   "id": "useful-carrier",
   "metadata": {
    "scrolled": true
   },
   "outputs": [
    {
     "name": "stdout",
     "output_type": "stream",
     "text": [
      "-0.5402953765395865\n"
     ]
    }
   ],
   "source": [
    "var = np.percentile(bank_account1[:,-1],10)\n",
    "print(var)"
   ]
  },
  {
   "cell_type": "code",
   "execution_count": 6,
   "id": "mysterious-vision",
   "metadata": {},
   "outputs": [
    {
     "name": "stdout",
     "output_type": "stream",
     "text": [
      "-0.845432094096318\n"
     ]
    }
   ],
   "source": [
    "CVaR= np.mean(bank_account1[:,-1][bank_account1[:,-1] <= var])\n",
    "print(CVaR)"
   ]
  },
  {
   "cell_type": "code",
   "execution_count": 7,
   "id": "effective-singles",
   "metadata": {
    "scrolled": true
   },
   "outputs": [
    {
     "name": "stdout",
     "output_type": "stream",
     "text": [
      "4.554722921689006\n"
     ]
    }
   ],
   "source": [
    "M = - CVaR - 0.02\n",
    "M_discounted = M * np.exp(-r*T_put)\n",
    "adjusted_price = BS.PutPrice(S0, T_put, K, sigma, r) + M_discounted\n",
    "print(adjusted_price)"
   ]
  },
  {
   "cell_type": "code",
   "execution_count": 8,
   "id": "d890c7fc",
   "metadata": {},
   "outputs": [
    {
     "name": "stderr",
     "output_type": "stream",
     "text": [
      "100%|██████████| 10000/10000 [01:03<00:00, 158.16it/s]\n"
     ]
    },
    {
     "data": {
      "text/plain": [
       "Text(0.5, 1.0, 'Move Based P&L --- Delta Hedging')"
      ]
     },
     "execution_count": 8,
     "metadata": {},
     "output_type": "execute_result"
    },
    {
     "data": {
      "image/png": "[encoded data removed]",
      "text/plain": [
       "<Figure size 432x288 with 1 Axes>"
      ]
     },
     "metadata": {
      "needs_background": "light"
     },
     "output_type": "display_data"
    }
   ],
   "source": [
    "#delta hedging move based\n",
    "import matplotlib.pyplot as plt\n",
    "from tqdm import tqdm\n",
    "np.random.seed(456)\n",
    "S0 = 100\n",
    "sigma = 0.2\n",
    "mu = 0.1\n",
    "r = 0.02\n",
    "K = 100\n",
    "put_T = int(252*1/4) #NdT_put\n",
    "call_T = int(252*1/2) #NdT_call\n",
    "trans_equity = 0.005\n",
    "trans_option = 0.01\n",
    "sim_num = 10000\n",
    "dt = 1/252\n",
    "T_put = 0.25\n",
    "lower_limit = -0.99\n",
    "upper_limit = -0.01\n",
    "limit = 0.05\n",
    "#move-based delta hedging\n",
    "simulations = sim(mu,sigma,S0,T_put,sim_num)\n",
    "bank_account2 = np.full_like(simulations,np.nan)\n",
    "delta0 = BS.PutDelta(S0, T_put, K, sigma, r)\n",
    "M0_put = BS.PutPrice(S0, T_put, K, sigma, r) - delta0*S0 - trans_equity*np.abs(delta0)\n",
    "bank_account2[:,0] = M0_put\n",
    "#previous_delta = delta0.copy()\n",
    "\n",
    "for t in tqdm(range(sim_num)):\n",
    "    previous_delta = delta0.copy()\n",
    "    flag = 0 #first in\n",
    "    for i in range(put_T):\n",
    "        if i == put_T - 1:\n",
    "            delta_new = 0\n",
    "            bank_account2[t,i+1] = bank_account2[t,i]*np.exp(r*dt) - \\\n",
    "                    (delta_new - previous_delta)*simulations[t,i+1] - \\\n",
    "                    trans_equity*(np.abs(delta_new - previous_delta))\n",
    "        else:\n",
    "            \n",
    "            T = T_put - (i+1) * dt\n",
    "            delta_new = BS.PutDelta(simulations[t,i+1], T, K, sigma, r)\n",
    "            upper = previous_delta + 0.05\n",
    "            lower = previous_delta - 0.05\n",
    "          \n",
    "            if delta_new >= -0.01:\n",
    "                if flag  == 0:\n",
    "                    upper = 0\n",
    "                    lower = delta_new - 0.05\n",
    "                    bank_account2[t,i+1] = bank_account2[t,i]*np.exp(r*dt) - \\\n",
    "                    (delta_new - previous_delta)*simulations[t,i+1] - \\\n",
    "                    trans_equity*(np.abs(delta_new - previous_delta))\n",
    "                    flag = 1\n",
    "                    previous_delta = delta_new.copy()\n",
    "                elif flag == 1:\n",
    "                    bank_account2[t,i+1] = bank_account2[t,i]*np.exp(r*dt)\n",
    "\n",
    "\n",
    "            elif delta_new <= -0.99:\n",
    "                if flag  == 0:\n",
    "                    upper = delta_new + 0.05\n",
    "                    lower = -1\n",
    "                    bank_account2[t,i+1] = bank_account2[t,i]*np.exp(r*dt) - \\\n",
    "                    (delta_new - previous_delta)*simulations[t,i+1] - \\\n",
    "                    trans_equity*(np.abs(delta_new - previous_delta))\n",
    "                    flag = 1\n",
    "                    previous_delta = delta_new.copy()\n",
    "                elif flag == 1:\n",
    "                    bank_account2[t,i+1] = bank_account2[t,i]*np.exp(r*dt)\n",
    "\n",
    "\n",
    "            elif delta_new <= upper_limit and delta_new >= lower_limit:\n",
    "                if delta_new >= lower and delta_new <= upper:\n",
    "                    bank_account2[t,i+1] = bank_account2[t,i]*np.exp(r*dt)\n",
    "\n",
    "                else:\n",
    "                    bank_account2[t,i+1] = bank_account2[t,i]*np.exp(r*dt) - \\\n",
    "                    (delta_new - previous_delta)*simulations[t,i+1] - \\\n",
    "                    trans_equity*(np.abs(delta_new - previous_delta))\n",
    "                    upper = delta_new + 0.05\n",
    "                    lower = delta_new - 0.05\n",
    "                    previous_delta = delta_new.copy()\n",
    "                    flag = 0\n",
    "\n",
    "for ii in range(sim_num):\n",
    "    if K > simulations[ii,-1]:\n",
    "        bank_account2[ii,-1] = bank_account2[ii,-1] - (K - simulations[ii,-1])  \n",
    "        \n",
    "\n",
    "plt.hist(bank_account2[:,-1],bins = 100)\n",
    "plt.title('Move Based P&L --- Delta Hedging')         "
   ]
  },
  {
   "cell_type": "code",
   "execution_count": 9,
   "id": "0007ebf0",
   "metadata": {},
   "outputs": [
    {
     "name": "stdout",
     "output_type": "stream",
     "text": [
      "-0.6029133784117722\n",
      "-0.9089820955940068\n",
      "4.61795596623192\n"
     ]
    }
   ],
   "source": [
    "var = np.percentile(bank_account2[:,-1],10)\n",
    "print(var)\n",
    "CVaR= np.mean(bank_account2[:,-1][bank_account2[:,-1] <= var])\n",
    "print(CVaR)\n",
    "M = - CVaR - 0.02\n",
    "M_discounted = M * np.exp(-r*T_put)\n",
    "adjusted_price = BS.PutPrice(S0, T_put, K, sigma, r) + M_discounted\n",
    "print(adjusted_price)"
   ]
  },
  {
   "cell_type": "code",
   "execution_count": 10,
   "id": "2dc61c96",
   "metadata": {},
   "outputs": [],
   "source": [
    "#Q2"
   ]
  },
  {
   "cell_type": "code",
   "execution_count": 11,
   "id": "11aad91d",
   "metadata": {
    "scrolled": true
   },
   "outputs": [
    {
     "data": {
      "text/plain": [
       "Text(0.5, 1.0, 'Time Based P&L --- Delta Gamma Hedging')"
      ]
     },
     "execution_count": 11,
     "metadata": {},
     "output_type": "execute_result"
    },
    {
     "data": {
      "image/png": "[encoded data removed]",
      "text/plain": [
       "<Figure size 432x288 with 1 Axes>"
      ]
     },
     "metadata": {
      "needs_background": "light"
     },
     "output_type": "display_data"
    }
   ],
   "source": [
    "#delta gamma hedging time based\n",
    "np.random.seed(456)\n",
    "import matplotlib.pyplot as plt\n",
    "S0 = 100\n",
    "sigma = 0.2\n",
    "mu = 0.1\n",
    "r = 0.02\n",
    "K = 100\n",
    "put_T = int(252*1/4) #NdT_put\n",
    "call_T = int(252*1/2) #NdT_call\n",
    "trans_equity = 0.005\n",
    "trans_option = 0.01\n",
    "sim_num = 10000\n",
    "dt = 1/252\n",
    "T_put = 0.25\n",
    "T_call = 0.5\n",
    "#time-based delta gamma hedging\n",
    "simulations = sim(mu,sigma,S0,T_put,sim_num)\n",
    "bank_account3 = np.full_like(simulations,np.nan)\n",
    "#gamma0\n",
    "num_calloption = BS.PutGamma(S0, T_put, K, sigma, r) / BS.CallGamma(S0, T_call, K, sigma, r)\n",
    "#delta0\n",
    "num_stock = BS.PutDelta(S0, T_put, K, sigma, r) - num_calloption*BS.CallDelta(S0, T_call, K, sigma, r)\n",
    "#option price at t = 0\n",
    "option_price0 = BS.CallPrice(S0, T_call, K, sigma, r)\n",
    "M0 = BS.PutPrice(S0, T_put, K, sigma, r) - \\\n",
    "     num_stock*S0 - \\\n",
    "     trans_equity*np.abs(num_stock) - \\\n",
    "     num_calloption*option_price0 - \\\n",
    "     trans_option*np.abs(num_calloption)\n",
    "bank_account3[:,0] = M0\n",
    "delta = []\n",
    "delta += [num_stock]\n",
    "gamma = []\n",
    "gamma += [num_calloption]\n",
    "#M(r,t,M0,S_price,transaction_cost,delta0,delta)\n",
    "for i in range(put_T):\n",
    "    Tcall = T_call - (i + 1) * dt\n",
    "    T = T_put - (i + 1) * dt\n",
    "    if i == put_T - 1:\n",
    "        delta_new = 0\n",
    "        gamma_new = 0\n",
    "        option_price = BS.CallPrice(simulations[:,i+1], Tcall, K, sigma, r)\n",
    "        \n",
    "    else: \n",
    "        option_price = BS.CallPrice(simulations[:,i+1], Tcall, K, sigma, r)\n",
    "        gamma_new = BS.PutGamma(simulations[:,i+1], T, K, sigma, r) / BS.CallGamma(simulations[:,i+1], Tcall, K, sigma, r)\n",
    "        delta_new = BS.PutDelta(simulations[:,i+1], T, K, sigma, r) - \\\n",
    "        gamma_new*BS.CallDelta(simulations[:,i+1], Tcall, K, sigma, r)\n",
    "    delta += [delta_new]\n",
    "    gamma += [gamma_new]\n",
    "    bank_account3[:,i+1] = bank_account3[:,i]*np.exp(r*dt) - \\\n",
    "    (delta_new - delta[-2])*simulations[:,i+1] - \\\n",
    "    trans_equity*(np.abs(delta_new - delta[-2])) - \\\n",
    "    (gamma_new - gamma[-2])*option_price - \\\n",
    "    trans_option*(np.abs(gamma_new - gamma[-2]))\n",
    "    \n",
    "for ii in range(sim_num):\n",
    "    if K > simulations[ii,-1]:\n",
    "        bank_account3[ii,-1] = bank_account3[ii,-1] - (K - simulations[ii,-1])\n",
    "\n",
    "plt.hist(bank_account3[:,-1],bins = 100)\n",
    "plt.title('Time Based P&L --- Delta Gamma Hedging')"
   ]
  },
  {
   "cell_type": "code",
   "execution_count": 12,
   "id": "5d8559a3",
   "metadata": {},
   "outputs": [
    {
     "name": "stdout",
     "output_type": "stream",
     "text": [
      "-0.23103564115408717\n",
      "-0.32696904694019324\n",
      "4.038845719768397\n"
     ]
    }
   ],
   "source": [
    "var = np.percentile(bank_account3[:,-1],10)\n",
    "print(var)\n",
    "CVaR= np.mean(bank_account3[:,-1][bank_account3[:,-1] <= var])\n",
    "print(CVaR)\n",
    "M = - CVaR - 0.02\n",
    "M_discounted = M * np.exp(-r*T_put)\n",
    "adjusted_price = BS.PutPrice(S0, T_put, K, sigma, r) + M_discounted\n",
    "print(adjusted_price)"
   ]
  },
  {
   "cell_type": "code",
   "execution_count": 13,
   "id": "046710b3",
   "metadata": {},
   "outputs": [
    {
     "name": "stderr",
     "output_type": "stream",
     "text": [
      "100%|██████████| 10000/10000 [08:35<00:00, 19.40it/s]\n"
     ]
    },
    {
     "data": {
      "text/plain": [
       "Text(0.5, 1.0, 'Move Based P&L --- Delta Gamma Hedging')"
      ]
     },
     "execution_count": 13,
     "metadata": {},
     "output_type": "execute_result"
    },
    {
     "data": {
      "image/png": "[encoded data removed]",
      "text/plain": [
       "<Figure size 432x288 with 1 Axes>"
      ]
     },
     "metadata": {
      "needs_background": "light"
     },
     "output_type": "display_data"
    }
   ],
   "source": [
    "#这个暂时先不弄，这个是第二题的move based\n",
    "import matplotlib.pyplot as plt\n",
    "from tqdm import tqdm\n",
    "np.random.seed(456)\n",
    "S0 = 100\n",
    "sigma = 0.2\n",
    "mu = 0.1\n",
    "r = 0.02\n",
    "K = 100\n",
    "put_T = int(252*1/4) #NdT_put\n",
    "call_T = int(252*1/2) #NdT_call\n",
    "trans_equity = 0.005\n",
    "trans_option = 0.01\n",
    "sim_num = 10000\n",
    "dt = 1/252\n",
    "T_put = 0.25\n",
    "T_call = 0.5\n",
    "lower_limit = -0.99\n",
    "upper_limit = -0.01\n",
    "limit = 0.05\n",
    "#move-based delta hedging\n",
    "simulations = sim(mu,sigma,S0,T_put,sim_num)\n",
    "bank_account4 = np.full_like(simulations,np.nan)\n",
    "#gamma0\n",
    "num_calloption = BS.PutGamma(S0, T_put, K, sigma, r) / BS.CallGamma(S0, T_call, K, sigma, r)\n",
    "#delta0\n",
    "num_stock = BS.PutDelta(S0, T_put, K, sigma, r) - num_calloption*BS.CallDelta(S0, T_call, K, sigma, r)\n",
    "#option price at t = 0\n",
    "option_price0 = BS.CallPrice(S0, T_call, K, sigma, r)\n",
    "M0 = BS.PutPrice(S0, T_put, K, sigma, r) - \\\n",
    "     num_stock*S0 - \\\n",
    "     trans_equity*np.abs(num_stock) - \\\n",
    "     num_calloption*option_price0 - \\\n",
    "     trans_option*np.abs(num_calloption)\n",
    "bank_account4[:,0] = M0\n",
    "\n",
    "#move based\n",
    "for t in tqdm(range(sim_num)):\n",
    "    previous_delta = num_stock.copy()\n",
    "    previous_gamma = num_calloption.copy()\n",
    "    #adj_delta = BS.PutDelta(S0, T_put, K, sigma, r).copy()\n",
    "    delta_call0 = BS.CallDelta(S0, T_call, K, sigma, r).copy()\n",
    "    previous_band = previous_delta+previous_gamma*delta_call0\n",
    "    flag = 0 #first in\n",
    "    for i in range(put_T):\n",
    "        if i == put_T - 1:\n",
    "            Tcall = T_call - (i + 1) * dt\n",
    "            option_price = BS.CallPrice(simulations[t,i+1], Tcall, K, sigma, r)\n",
    "            gamma_new = 0\n",
    "            delta_new = 0\n",
    "            bank_account4[t,i+1] = bank_account4[t,i]*np.exp(r*dt) - \\\n",
    "            (delta_new - previous_delta)*simulations[t,i+1] - \\\n",
    "            trans_equity*(np.abs(delta_new - previous_delta)) - \\\n",
    "            (gamma_new - previous_gamma)*option_price - \\\n",
    "            trans_option*(np.abs(gamma_new - previous_gamma))\n",
    "            \n",
    "        else:\n",
    "            Tcall = T_call - (i + 1) * dt\n",
    "            T = T_put - (i+1) * dt\n",
    "            option_price = BS.CallPrice(simulations[t,i+1], Tcall, K, sigma, r)\n",
    "            gamma_new = BS.PutGamma(simulations[t,i+1], T, K, sigma, r) / BS.CallGamma(simulations[t,i+1], Tcall, K, sigma, r)\n",
    "            delta_new = BS.PutDelta(simulations[t,i+1], T, K, sigma, r) - \\\n",
    "            gamma_new*BS.CallDelta(simulations[t,i+1], Tcall, K, sigma, r)\n",
    "            adj_delta_new = BS.PutDelta(simulations[t,i+1], T, K, sigma, r)\n",
    "            \n",
    "            previous_band = previous_delta+previous_gamma*BS.CallDelta(simulations[t,i+1], Tcall, K, sigma, r)\n",
    "            upper = previous_band + 0.05\n",
    "            lower = previous_band - 0.05\n",
    "          \n",
    "            if adj_delta_new >= -0.01:\n",
    "                if flag  == 0:\n",
    "                    upper = 0\n",
    "                    lower = adj_delta_new - 0.05\n",
    "                    bank_account4[t,i+1] = bank_account4[t,i]*np.exp(r*dt) - \\\n",
    "                    (delta_new - previous_delta)*simulations[t,i+1] - \\\n",
    "                    trans_equity*(np.abs(delta_new - previous_delta)) - \\\n",
    "                    (gamma_new - previous_gamma)*option_price - \\\n",
    "                    trans_option*(np.abs(gamma_new - previous_gamma))\n",
    "                    flag = 1\n",
    "                    previous_delta = delta_new.copy()\n",
    "                    previous_gamma = gamma_new.copy()\n",
    "                elif flag == 1:\n",
    "                    bank_account4[t,i+1] = bank_account4[t,i]*np.exp(r*dt)\n",
    "\n",
    "\n",
    "            elif adj_delta_new <= -0.99:\n",
    "                if flag  == 0:\n",
    "                    upper = adj_delta_new + 0.05\n",
    "                    lower = -1\n",
    "                    bank_account4[t,i+1] = bank_account4[t,i]*np.exp(r*dt) - \\\n",
    "                    (delta_new - previous_delta)*simulations[t,i+1] - \\\n",
    "                    trans_equity*(np.abs(delta_new - previous_delta)) - \\\n",
    "                    (gamma_new - previous_gamma)*option_price - \\\n",
    "                    trans_option*(np.abs(gamma_new - previous_gamma))\n",
    "                    flag = 1\n",
    "                    previous_delta = delta_new.copy()\n",
    "                    previous_gamma = gamma_new.copy()\n",
    "                elif flag == 1:\n",
    "                    bank_account4[t,i+1] = bank_account4[t,i]*np.exp(r*dt)\n",
    "\n",
    "\n",
    "            elif adj_delta_new <= upper_limit and adj_delta_new >= lower_limit:\n",
    "                if adj_delta_new >= lower and adj_delta_new <= upper:\n",
    "                    bank_account4[t,i+1] = bank_account4[t,i]*np.exp(r*dt)\n",
    "\n",
    "                else:\n",
    "                    bank_account4[t,i+1] = bank_account4[t,i]*np.exp(r*dt) - \\\n",
    "                    (delta_new - previous_delta)*simulations[t,i+1] - \\\n",
    "                    trans_equity*(np.abs(delta_new - previous_delta)) - \\\n",
    "                    (gamma_new - previous_gamma)*option_price - \\\n",
    "                    trans_option*(np.abs(gamma_new - previous_gamma))\n",
    "                    upper = previous_delta+previous_gamma*BS.CallDelta(simulations[t,i+1], Tcall, K, sigma, r) + 0.05\n",
    "                    lower = previous_delta+previous_gamma*BS.CallDelta(simulations[t,i+1], Tcall, K, sigma, r) - 0.05\n",
    "                    previous_delta = delta_new.copy()\n",
    "                    previous_gamma = gamma_new.copy()\n",
    "                    flag = 0\n",
    "\n",
    "for ii in range(sim_num):\n",
    "    if K > simulations[ii,-1]:\n",
    "        bank_account4[ii,-1] = bank_account4[ii,-1] - (K - simulations[ii,-1])   \n",
    "        \n",
    "\n",
    "plt.hist(bank_account4[:,-1],bins = 100)\n",
    "plt.title('Move Based P&L --- Delta Gamma Hedging')         "
   ]
  },
  {
   "cell_type": "code",
   "execution_count": 14,
   "id": "3501d2ea",
   "metadata": {},
   "outputs": [
    {
     "name": "stdout",
     "output_type": "stream",
     "text": [
      "-0.23103564115408717\n",
      "-0.3306274330994999\n",
      "4.042485859650613\n"
     ]
    }
   ],
   "source": [
    "var = np.percentile(bank_account3[:,-1],10)\n",
    "print(var)\n",
    "CVaR= np.mean(bank_account4[:,-1][bank_account4[:,-1] <= var])\n",
    "print(CVaR)\n",
    "M = - CVaR - 0.02\n",
    "M_discounted = M * np.exp(-r*T_put)\n",
    "adjusted_price = BS.PutPrice(S0, T_put, K, sigma, r) + M_discounted\n",
    "print(adjusted_price)"
   ]
  },
  {
   "cell_type": "code",
   "execution_count": 15,
   "id": "6eaff116",
   "metadata": {},
   "outputs": [],
   "source": [
    "#Q3 Change bands"
   ]
  },
  {
   "cell_type": "code",
   "execution_count": 16,
   "id": "bulgarian-insider",
   "metadata": {},
   "outputs": [
    {
     "name": "stderr",
     "output_type": "stream",
     "text": [
      "100%|██████████| 10000/10000 [01:03<00:00, 158.41it/s]\n"
     ]
    },
    {
     "data": {
      "text/plain": [
       "Text(0.5, 1.0, 'Move Based P&L --- Delta Hedging')"
      ]
     },
     "execution_count": 16,
     "metadata": {},
     "output_type": "execute_result"
    },
    {
     "data": {
      "image/png": "[encoded data removed]",
      "text/plain": [
       "<Figure size 432x288 with 1 Axes>"
      ]
     },
     "metadata": {
      "needs_background": "light"
     },
     "output_type": "display_data"
    }
   ],
   "source": [
    "#bands = 0.2\n",
    "import matplotlib.pyplot as plt\n",
    "from tqdm import tqdm\n",
    "np.random.seed(456)\n",
    "S0 = 100\n",
    "sigma = 0.2\n",
    "mu = 0.1\n",
    "r = 0.02\n",
    "K = 100\n",
    "put_T = int(252*1/4) #NdT_put\n",
    "call_T = int(252*1/2) #NdT_call\n",
    "trans_equity = 0.005\n",
    "trans_option = 0.01\n",
    "sim_num = 10000\n",
    "dt = 1/252\n",
    "T_put = 0.25\n",
    "lower_limit = -0.99\n",
    "upper_limit = -0.01\n",
    "limit = 0.1\n",
    "#move-based delta hedging\n",
    "simulations = sim(mu,sigma,S0,T_put,sim_num)\n",
    "bank_account5 = np.full_like(simulations,np.nan)\n",
    "delta0 = BS.PutDelta(S0, T_put, K, sigma, r)\n",
    "M0_put = BS.PutPrice(S0, T_put, K, sigma, r) - delta0*S0 - trans_equity*np.abs(delta0)\n",
    "bank_account5[:,0] = M0_put\n",
    "#previous_delta = delta0.copy()\n",
    "\n",
    "for t in tqdm(range(sim_num)):\n",
    "    previous_delta = delta0.copy()\n",
    "    flag = 0 #first in\n",
    "    for i in range(put_T):\n",
    "        if i == put_T - 1:\n",
    "            delta_new = 0\n",
    "            bank_account5[t,i+1] = bank_account5[t,i]*np.exp(r*dt) - \\\n",
    "                    (delta_new - previous_delta)*simulations[t,i+1] - \\\n",
    "                    trans_equity*(np.abs(delta_new - previous_delta))\n",
    "        else:\n",
    "            \n",
    "            T = T_put - (i+1) * dt\n",
    "            delta_new = BS.PutDelta(simulations[t,i+1], T, K, sigma, r)\n",
    "            upper = previous_delta + 0.1\n",
    "            lower = previous_delta - 0.1\n",
    "          \n",
    "            if delta_new >= -0.01:\n",
    "                if flag  == 0:\n",
    "                    upper = 0\n",
    "                    lower = delta_new - 0.1\n",
    "                    bank_account5[t,i+1] = bank_account5[t,i]*np.exp(r*dt) - \\\n",
    "                    (delta_new - previous_delta)*simulations[t,i+1] - \\\n",
    "                    trans_equity*(np.abs(delta_new - previous_delta))\n",
    "                    flag = 1\n",
    "                    previous_delta = delta_new.copy()\n",
    "                elif flag == 1:\n",
    "                    bank_account5[t,i+1] = bank_account5[t,i]*np.exp(r*dt)\n",
    "\n",
    "\n",
    "            elif delta_new <= -0.99:\n",
    "                if flag  == 0:\n",
    "                    upper = delta_new + 0.1\n",
    "                    lower = -1\n",
    "                    bank_account5[t,i+1] = bank_account5[t,i]*np.exp(r*dt) - \\\n",
    "                    (delta_new - previous_delta)*simulations[t,i+1] - \\\n",
    "                    trans_equity*(np.abs(delta_new - previous_delta))\n",
    "                    flag = 1\n",
    "                    previous_delta = delta_new.copy()\n",
    "                elif flag == 1:\n",
    "                    bank_account5[t,i+1] = bank_account5[t,i]*np.exp(r*dt)\n",
    "\n",
    "\n",
    "            elif delta_new <= upper_limit and delta_new >= lower_limit:\n",
    "                if delta_new >= lower and delta_new <= upper:\n",
    "                    bank_account5[t,i+1] = bank_account5[t,i]*np.exp(r*dt)\n",
    "\n",
    "                else:\n",
    "                    bank_account5[t,i+1] = bank_account5[t,i]*np.exp(r*dt) - \\\n",
    "                    (delta_new - previous_delta)*simulations[t,i+1] - \\\n",
    "                    trans_equity*(np.abs(delta_new - previous_delta))\n",
    "                    upper = delta_new + 0.1\n",
    "                    lower = delta_new - 0.1\n",
    "                    previous_delta = delta_new.copy()\n",
    "                    flag = 0\n",
    "\n",
    "for ii in range(sim_num):\n",
    "    if K > simulations[ii,-1]:\n",
    "        bank_account5[ii,-1] = bank_account5[ii,-1] - (K - simulations[ii,-1])  \n",
    "        \n",
    "\n",
    "plt.hist(bank_account5[:,-1],bins = 100)\n",
    "plt.title('Move Based P&L --- Delta Hedging')         "
   ]
  },
  {
   "cell_type": "code",
   "execution_count": 17,
   "id": "c0f61dac",
   "metadata": {},
   "outputs": [
    {
     "name": "stdout",
     "output_type": "stream",
     "text": [
      "-0.782909306037262\n",
      "-1.0938871213170074\n",
      "4.801938774291749\n"
     ]
    }
   ],
   "source": [
    "var = np.percentile(bank_account5[:,-1],10)\n",
    "print(var)\n",
    "CVaR= np.mean(bank_account5[:,-1][bank_account5[:,-1] <= var])\n",
    "print(CVaR)\n",
    "M = - CVaR - 0.02\n",
    "M_discounted = M * np.exp(-r*T_put)\n",
    "adjusted_price = BS.PutPrice(S0, T_put, K, sigma, r) + M_discounted\n",
    "print(adjusted_price)"
   ]
  },
  {
   "cell_type": "code",
   "execution_count": 18,
   "id": "6c05847e",
   "metadata": {},
   "outputs": [
    {
     "name": "stderr",
     "output_type": "stream",
     "text": [
      "100%|██████████| 10000/10000 [01:03<00:00, 156.51it/s]\n"
     ]
    },
    {
     "data": {
      "text/plain": [
       "Text(0.5, 1.0, 'Move Based P&L --- Delta Hedging')"
      ]
     },
     "execution_count": 18,
     "metadata": {},
     "output_type": "execute_result"
    },
    {
     "data": {
      "image/png": "[encoded data removed]",
      "text/plain": [
       "<Figure size 432x288 with 1 Axes>"
      ]
     },
     "metadata": {
      "needs_background": "light"
     },
     "output_type": "display_data"
    }
   ],
   "source": [
    "#bands = 0.05\n",
    "import matplotlib.pyplot as plt\n",
    "from tqdm import tqdm\n",
    "np.random.seed(456)\n",
    "S0 = 100\n",
    "sigma = 0.2\n",
    "mu = 0.1\n",
    "r = 0.02\n",
    "K = 100\n",
    "put_T = int(252*1/4) #NdT_put\n",
    "call_T = int(252*1/2) #NdT_call\n",
    "trans_equity = 0.005\n",
    "trans_option = 0.01\n",
    "sim_num = 10000\n",
    "dt = 1/252\n",
    "T_put = 0.25\n",
    "lower_limit = -0.99\n",
    "upper_limit = -0.01\n",
    "limit = 0.025\n",
    "#move-based delta hedging\n",
    "simulations = sim(mu,sigma,S0,T_put,sim_num)\n",
    "bank_account6 = np.full_like(simulations,np.nan)\n",
    "delta0 = BS.PutDelta(S0, T_put, K, sigma, r)\n",
    "M0_put = BS.PutPrice(S0, T_put, K, sigma, r) - delta0*S0 - trans_equity*np.abs(delta0)\n",
    "bank_account6[:,0] = M0_put\n",
    "#previous_delta = delta0.copy()\n",
    "\n",
    "for t in tqdm(range(sim_num)):\n",
    "    previous_delta = delta0.copy()\n",
    "    flag = 0 #first in\n",
    "    for i in range(put_T):\n",
    "        if i == put_T - 1:\n",
    "            delta_new = 0\n",
    "            bank_account6[t,i+1] = bank_account6[t,i]*np.exp(r*dt) - \\\n",
    "                    (delta_new - previous_delta)*simulations[t,i+1] - \\\n",
    "                    trans_equity*(np.abs(delta_new - previous_delta))\n",
    "        else:\n",
    "            \n",
    "            T = T_put - (i+1) * dt\n",
    "            delta_new = BS.PutDelta(simulations[t,i+1], T, K, sigma, r)\n",
    "            upper = previous_delta + 0.025\n",
    "            lower = previous_delta - 0.025\n",
    "          \n",
    "            if delta_new >= -0.01:\n",
    "                if flag  == 0:\n",
    "                    upper = 0\n",
    "                    lower = delta_new - 0.025\n",
    "                    bank_account6[t,i+1] = bank_account6[t,i]*np.exp(r*dt) - \\\n",
    "                    (delta_new - previous_delta)*simulations[t,i+1] - \\\n",
    "                    trans_equity*(np.abs(delta_new - previous_delta))\n",
    "                    flag = 1\n",
    "                    previous_delta = delta_new.copy()\n",
    "                elif flag == 1:\n",
    "                    bank_account6[t,i+1] = bank_account6[t,i]*np.exp(r*dt)\n",
    "\n",
    "\n",
    "            elif delta_new <= -0.99:\n",
    "                if flag  == 0:\n",
    "                    upper = delta_new + 0.025\n",
    "                    lower = -1\n",
    "                    bank_account6[t,i+1] = bank_account6[t,i]*np.exp(r*dt) - \\\n",
    "                    (delta_new - previous_delta)*simulations[t,i+1] - \\\n",
    "                    trans_equity*(np.abs(delta_new - previous_delta))\n",
    "                    flag = 1\n",
    "                    previous_delta = delta_new.copy()\n",
    "                elif flag == 1:\n",
    "                    bank_account6[t,i+1] = bank_account6[t,i]*np.exp(r*dt)\n",
    "\n",
    "\n",
    "            elif delta_new <= upper_limit and delta_new >= lower_limit:\n",
    "                if delta_new >= lower and delta_new <= upper:\n",
    "                    bank_account6[t,i+1] = bank_account6[t,i]*np.exp(r*dt)\n",
    "\n",
    "                else:\n",
    "                    bank_account6[t,i+1] = bank_account6[t,i]*np.exp(r*dt) - \\\n",
    "                    (delta_new - previous_delta)*simulations[t,i+1] - \\\n",
    "                    trans_equity*(np.abs(delta_new - previous_delta))\n",
    "                    upper = delta_new + 0.025\n",
    "                    lower = delta_new - 0.025\n",
    "                    previous_delta = delta_new.copy()\n",
    "                    flag = 0\n",
    "\n",
    "for ii in range(sim_num):\n",
    "    if K > simulations[ii,-1]:\n",
    "        bank_account6[ii,-1] = bank_account6[ii,-1] - (K - simulations[ii,-1])  \n",
    "        \n",
    "\n",
    "plt.hist(bank_account6[:,-1],bins = 100)\n",
    "plt.title('Move Based P&L --- Delta Hedging')         "
   ]
  },
  {
   "cell_type": "code",
   "execution_count": 19,
   "id": "a06c42d7",
   "metadata": {},
   "outputs": [
    {
     "name": "stdout",
     "output_type": "stream",
     "text": [
      "-0.5520259165810829\n",
      "-0.8529217708657036\n",
      "4.562175243539664\n"
     ]
    }
   ],
   "source": [
    "var = np.percentile(bank_account6[:,-1],10)\n",
    "print(var)\n",
    "CVaR= np.mean(bank_account6[:,-1][bank_account6[:,-1] <= var])\n",
    "print(CVaR)\n",
    "M = - CVaR - 0.02\n",
    "M_discounted = M * np.exp(-r*T_put)\n",
    "adjusted_price = BS.PutPrice(S0, T_put, K, sigma, r) + M_discounted\n",
    "print(adjusted_price)"
   ]
  },
  {
   "cell_type": "code",
   "execution_count": 20,
   "id": "0875f01a",
   "metadata": {},
   "outputs": [
    {
     "name": "stderr",
     "output_type": "stream",
     "text": [
      "100%|██████████| 10000/10000 [01:03<00:00, 157.65it/s]\n"
     ]
    },
    {
     "data": {
      "text/plain": [
       "Text(0.5, 1.0, 'Move Based P&L --- Delta Hedging')"
      ]
     },
     "execution_count": 20,
     "metadata": {},
     "output_type": "execute_result"
    },
    {
     "data": {
      "image/png": "[encoded data removed]",
      "text/plain": [
       "<Figure size 432x288 with 1 Axes>"
      ]
     },
     "metadata": {
      "needs_background": "light"
     },
     "output_type": "display_data"
    }
   ],
   "source": [
    "#bands = 0.15\n",
    "import matplotlib.pyplot as plt\n",
    "from tqdm import tqdm\n",
    "np.random.seed(456)\n",
    "S0 = 100\n",
    "sigma = 0.2\n",
    "mu = 0.1\n",
    "r = 0.02\n",
    "K = 100\n",
    "put_T = int(252*1/4) #NdT_put\n",
    "call_T = int(252*1/2) #NdT_call\n",
    "trans_equity = 0.005\n",
    "trans_option = 0.01\n",
    "sim_num = 10000\n",
    "dt = 1/252\n",
    "T_put = 0.25\n",
    "lower_limit = -0.99\n",
    "upper_limit = -0.01\n",
    "limit = 0.075\n",
    "#move-based delta hedging\n",
    "simulations = sim(mu,sigma,S0,T_put,sim_num)\n",
    "bank_account7 = np.full_like(simulations,np.nan)\n",
    "delta0 = BS.PutDelta(S0, T_put, K, sigma, r)\n",
    "M0_put = BS.PutPrice(S0, T_put, K, sigma, r) - delta0*S0 - trans_equity*np.abs(delta0)\n",
    "bank_account7[:,0] = M0_put\n",
    "#previous_delta = delta0.copy()\n",
    "\n",
    "for t in tqdm(range(sim_num)):\n",
    "    previous_delta = delta0.copy()\n",
    "    flag = 0 #first in\n",
    "    for i in range(put_T):\n",
    "        if i == put_T - 1:\n",
    "            delta_new = 0\n",
    "            bank_account7[t,i+1] = bank_account7[t,i]*np.exp(r*dt) - \\\n",
    "                    (delta_new - previous_delta)*simulations[t,i+1] - \\\n",
    "                    trans_equity*(np.abs(delta_new - previous_delta))\n",
    "        else:\n",
    "            \n",
    "            T = T_put - (i+1) * dt\n",
    "            delta_new = BS.PutDelta(simulations[t,i+1], T, K, sigma, r)\n",
    "            upper = previous_delta + 0.075\n",
    "            lower = previous_delta - 0.075\n",
    "          \n",
    "            if delta_new >= -0.01:\n",
    "                if flag  == 0:\n",
    "                    upper = 0\n",
    "                    lower = delta_new - 0.075\n",
    "                    bank_account7[t,i+1] = bank_account7[t,i]*np.exp(r*dt) - \\\n",
    "                    (delta_new - previous_delta)*simulations[t,i+1] - \\\n",
    "                    trans_equity*(np.abs(delta_new - previous_delta))\n",
    "                    flag = 1\n",
    "                    previous_delta = delta_new.copy()\n",
    "                elif flag == 1:\n",
    "                    bank_account7[t,i+1] = bank_account7[t,i]*np.exp(r*dt)\n",
    "\n",
    "\n",
    "            elif delta_new <= -0.99:\n",
    "                if flag  == 0:\n",
    "                    upper = delta_new + 0.075\n",
    "                    lower = -1\n",
    "                    bank_account7[t,i+1] = bank_account7[t,i]*np.exp(r*dt) - \\\n",
    "                    (delta_new - previous_delta)*simulations[t,i+1] - \\\n",
    "                    trans_equity*(np.abs(delta_new - previous_delta))\n",
    "                    flag = 1\n",
    "                    previous_delta = delta_new.copy()\n",
    "                elif flag == 1:\n",
    "                    bank_account7[t,i+1] = bank_account7[t,i]*np.exp(r*dt)\n",
    "\n",
    "\n",
    "            elif delta_new <= upper_limit and delta_new >= lower_limit:\n",
    "                if delta_new >= lower and delta_new <= upper:\n",
    "                    bank_account7[t,i+1] = bank_account7[t,i]*np.exp(r*dt)\n",
    "\n",
    "                else:\n",
    "                    bank_account7[t,i+1] = bank_account7[t,i]*np.exp(r*dt) - \\\n",
    "                    (delta_new - previous_delta)*simulations[t,i+1] - \\\n",
    "                    trans_equity*(np.abs(delta_new - previous_delta))\n",
    "                    upper = delta_new + 0.075\n",
    "                    lower = delta_new - 0.075\n",
    "                    previous_delta = delta_new.copy()\n",
    "                    flag = 0\n",
    "\n",
    "for ii in range(sim_num):\n",
    "    if K > simulations[ii,-1]:\n",
    "        bank_account7[ii,-1] = bank_account7[ii,-1] - (K - simulations[ii,-1])  \n",
    "        \n",
    "\n",
    "plt.hist(bank_account7[:,-1],bins = 100)\n",
    "plt.title('Move Based P&L --- Delta Hedging')         "
   ]
  },
  {
   "cell_type": "code",
   "execution_count": 21,
   "id": "4833b75a",
   "metadata": {},
   "outputs": [
    {
     "name": "stdout",
     "output_type": "stream",
     "text": [
      "-0.6845088062534956\n",
      "-0.9877629708636069\n",
      "4.6963439202468935\n"
     ]
    }
   ],
   "source": [
    "var = np.percentile(bank_account7[:,-1],10)\n",
    "print(var)\n",
    "CVaR= np.mean(bank_account7[:,-1][bank_account7[:,-1] <= var])\n",
    "print(CVaR)\n",
    "M = - CVaR - 0.02\n",
    "M_discounted = M * np.exp(-r*T_put)\n",
    "adjusted_price = BS.PutPrice(S0, T_put, K, sigma, r) + M_discounted\n",
    "print(adjusted_price)"
   ]
  },
  {
   "cell_type": "code",
   "execution_count": 22,
   "id": "2b4030ab",
   "metadata": {},
   "outputs": [
    {
     "data": {
      "image/png": "[encoded data removed]",
      "text/plain": [
       "<Figure size 432x288 with 1 Axes>"
      ]
     },
     "metadata": {
      "needs_background": "light"
     },
     "output_type": "display_data"
    }
   ],
   "source": [
    "#Band width smaller, peak higher; band width larger, more flat\n",
    "plt.hist(bank_account6[:,-1],bins=100, alpha = 0.5, label = \"Band Width = 0.05\")\n",
    "plt.hist(bank_account7[:,-1],bins=100, alpha = 0.5, label = \"Band Width = 0.15\")\n",
    "plt.hist(bank_account5[:,-1],bins=100, alpha = 0.5, label = \"Band Width = 0.2\")\n",
    "plt.legend(loc=\"upper right\")\n",
    "plt.show()"
   ]
  },
  {
   "cell_type": "code",
   "execution_count": null,
   "id": "behavioral-punishment",
   "metadata": {},
   "outputs": [],
   "source": []
  }
 ],
 "metadata": {
  "kernelspec": {
   "display_name": "Python 3 (ipykernel)",
   "language": "python",
   "name": "python3"
  },
  "language_info": {
   "codemirror_mode": {
    "name": "ipython",
    "version": 3
   },
   "file_extension": ".py",
   "mimetype": "text/x-python",
   "name": "python",
   "nbconvert_exporter": "python",
   "pygments_lexer": "ipython3",
   "version": "3.9.12"
  }
 },
 "nbformat": 4,
 "nbformat_minor": 5
}
